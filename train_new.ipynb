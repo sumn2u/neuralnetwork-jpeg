{
 "cells": [
  {
   "cell_type": "code",
   "execution_count": 1,
   "metadata": {},
   "outputs": [
    {
     "name": "stdout",
     "output_type": "stream",
     "text": [
      "WARNING:tensorflow:From /opt/anaconda3/lib/python3.9/site-packages/tensorflow/python/compat/v2_compat.py:107: disable_resource_variables (from tensorflow.python.ops.variable_scope) is deprecated and will be removed in a future version.\n",
      "Instructions for updating:\n",
      "non-resource variables are not supported in the long term\n"
     ]
    }
   ],
   "source": [
    "# import the necessary packages\n",
    "import numpy as np\n",
    "import canton as ct\n",
    "from canton import *\n",
    "import matplotlib.pyplot as plt\n",
    "# import tensorflow as tf v1\n",
    "import tensorflow.compat.v1 as tf\n",
    "tf.disable_v2_behavior() \n",
    "# reduce the log level error\n",
    "import os\n",
    "os.environ['TF_CPP_MIN_LOG_LEVEL'] = '2'"
   ]
  },
  {
   "cell_type": "code",
   "execution_count": 2,
   "metadata": {},
   "outputs": [],
   "source": [
    "# get the data from cifar\n",
    "def cifar():\n",
    "    from keras.datasets import cifar10\n",
    "    (X_train, y_train), (X_test, y_test) = cifar10.load_data()\n",
    "\n",
    "    print('X_train shape:', X_train.shape)\n",
    "    print(X_train.shape[0], 'train samples')\n",
    "    print(X_test.shape[0], 'test samples')\n",
    "\n",
    "    X_train = X_train.astype('float32')\n",
    "    X_test = X_test.astype('float32')\n",
    "\n",
    "    X_train /= 255\n",
    "    X_test /= 255\n",
    "    return X_train"
   ]
  },
  {
   "cell_type": "code",
   "execution_count": 3,
   "metadata": {},
   "outputs": [],
   "source": [
    "# ceraate an encoder layer\n",
    "def encoder():\n",
    "    c=Can()\n",
    "    def conv(nip,nop,tail=True):\n",
    "        c.add(Conv2D(nip,nop,k=3,usebias=True))\n",
    "        if tail:\n",
    "            # c.add(BatchNorm(nop))\n",
    "            c.add(Act('elu'))\n",
    "    c.add(Lambda(lambda x:x-0.5))\n",
    "    conv(3,16)\n",
    "    conv(16,32)\n",
    "    conv(32,64)\n",
    "    conv(64,128,tail=False)\n",
    "    c.chain()\n",
    "    return c\n"
   ]
  },
  {
   "cell_type": "code",
   "execution_count": 4,
   "metadata": {},
   "outputs": [],
   "source": [
    "def decoder():\n",
    "    c= Can()\n",
    "    def conv(nip,nop,tail=True):\n",
    "        c.add(Conv2D(nip,nop,k=3,usebias=True))\n",
    "        if tail:\n",
    "            # c.add(BatchNorm(nop))\n",
    "            c.add(Act('elu'))\n",
    "\n",
    "    conv(128,64)\n",
    "    conv(64,32)\n",
    "    conv(32,16)\n",
    "    conv(16,3,tail=False)\n",
    "    c.add(Act('sigmoid'))\n",
    "    c.chain()\n",
    "    return c"
   ]
  },
  {
   "cell_type": "code",
   "execution_count": 5,
   "metadata": {},
   "outputs": [],
   "source": [
    "def get_trainer():\n",
    "    x = ph([None,None,3])\n",
    "\n",
    "    # augment the training set by adding random gain and bias pertubation\n",
    "    sx = tf.shape(x)\n",
    "    input_gain = tf.random_uniform(\n",
    "        minval=0.6,\n",
    "        maxval=1.4,\n",
    "        shape=[sx[0],1,1,1])\n",
    "    input_bias = tf.random_uniform(\n",
    "        minval=-.2,\n",
    "        maxval=.2,\n",
    "        shape=[sx[0],1,1,1])\n",
    "    noisy_x = x * input_gain + input_bias\n",
    "    noisy_x = tf.clip_by_value(noisy_x,clip_value_max=1.,clip_value_min=0.)\n",
    "\n",
    "    code_noise = tf.Variable(0.1)\n",
    "    linear_code = enc(noisy_x)\n",
    "\n",
    "    # add gaussian before sigmoid to encourage binary code\n",
    "    noisy_code = linear_code + \\\n",
    "        tf.random_normal(stddev=code_noise,shape=tf.shape(linear_code))\n",
    "    binary_code = Act('sigmoid')(noisy_code)\n",
    "\n",
    "    y = dec(binary_code)\n",
    "    loss = tf.reduce_mean((y-noisy_x)**2) + tf.reduce_mean(binary_code**2) * 0.01\n",
    "\n",
    "    opt = tf.train.AdamOptimizer()\n",
    "    train_step = opt.minimize(loss,\n",
    "        var_list=enc.get_weights()+dec.get_weights())\n",
    "\n",
    "    def feed(batch,cnoise):\n",
    "        sess = ct.get_session()\n",
    "        res = sess.run([train_step,loss],feed_dict={\n",
    "            x:batch,\n",
    "            code_noise:cnoise,\n",
    "        })\n",
    "        return res[1]\n",
    "\n",
    "    set_training_state(False)\n",
    "    quantization_threshold = tf.Variable(0.5)\n",
    "    binary_code_test = tf.cast(binary_code>quantization_threshold,tf.float32)\n",
    "    y_test = dec(binary_code_test)\n",
    "\n",
    "    def test(batch,quanth):\n",
    "        sess = ct.get_session()\n",
    "        res = sess.run([binary_code_test,y_test,binary_code,y,noisy_x],feed_dict={\n",
    "            x:batch,\n",
    "            quantization_threshold:quanth,\n",
    "        })\n",
    "        return res\n",
    "    return feed,test"
   ]
  },
  {
   "cell_type": "code",
   "execution_count": 6,
   "metadata": {},
   "outputs": [],
   "source": [
    "def r(ep=1,cnoise=0.1):\n",
    "    np.random.shuffle(xt)\n",
    "    length = len(xt)\n",
    "    bs = 20 #interval second\n",
    "    for i in range(ep):\n",
    "        print('ep',i)\n",
    "        for j in range(0,length,bs):\n",
    "            minibatch = xt[j:j+bs]\n",
    "            loss = feed(minibatch,cnoise)\n",
    "            print(j,'loss:',loss)\n",
    "\n",
    "            if j%1000==0:\n",
    "                show()"
   ]
  },
  {
   "cell_type": "code",
   "execution_count": 7,
   "metadata": {},
   "outputs": [],
   "source": [
    "def show(threshold=.5):\n",
    "    from cv2tools import vis,filt\n",
    "    bs = 16\n",
    "    j = np.random.choice(len(xt)-16)\n",
    "    minibatch = xt[j:j+bs]\n",
    "    code, rec, code2, rec2, noisy_x = test(minibatch,threshold)\n",
    "\n",
    "    code = np.transpose(code[0:1],axes=(3,1,2,0))\n",
    "    code2 = np.transpose(code2[0:1],axes=(3,1,2,0))\n",
    "\n",
    "    vis.show_batch_autoscaled(code, name='code(quant)', limit=600.)\n",
    "    vis.show_batch_autoscaled(code2, name='code2(no quant)', limit=600.)\n",
    "\n",
    "    vis.show_batch_autoscaled(noisy_x,name='input')\n",
    "    vis.show_batch_autoscaled(rec,name='recon(quant)')\n",
    "    vis.show_batch_autoscaled(rec2,name='recon(no quant)')"
   ]
  },
  {
   "cell_type": "code",
   "execution_count": 8,
   "metadata": {},
   "outputs": [],
   "source": [
    "def save():\n",
    "    print(enc, \"enc\")\n",
    "    enc.save_weights('enc.npy')\n",
    "    dec.save_weights('dec.npy')"
   ]
  },
  {
   "cell_type": "code",
   "execution_count": 9,
   "metadata": {},
   "outputs": [],
   "source": [
    "def load():\n",
    "    enc.load_weights('enc.npy')\n",
    "    dec.load_weights('dec.npy')"
   ]
  },
  {
   "cell_type": "code",
   "execution_count": 10,
   "metadata": {},
   "outputs": [
    {
     "name": "stdout",
     "output_type": "stream",
     "text": [
      "-------------------\n",
      "Directly Trainable:\n",
      "counting variables...\n",
      "         3    3    3   16  ->  432    W:0\n",
      "                       16  ->  16     b:0\n",
      "         3    3   16   32  ->  4608   W_1:0\n",
      "                       32  ->  32     b_1:0\n",
      "         3    3   32   64  ->  18432  W_2:0\n",
      "                       64  ->  64     b_2:0\n",
      "         3    3   64  128  ->  73728  W_3:0\n",
      "                      128  ->  128    b_3:0\n",
      "               tensors: 8  ->  97440  variables\n",
      "-------------------\n",
      "Not Directly Trainable:\n",
      "counting variables...\n",
      "               tensors: 0  ->  0      variables\n",
      "-------------------\n",
      "-------------------\n",
      "Directly Trainable:\n",
      "counting variables...\n",
      "         3    3  128   64  ->  73728  W_4:0\n",
      "                       64  ->  64     b_4:0\n",
      "         3    3   64   32  ->  18432  W_5:0\n",
      "                       32  ->  32     b_5:0\n",
      "         3    3   32   16  ->  4608   W_6:0\n",
      "                       16  ->  16     b_6:0\n",
      "         3    3   16    3  ->  432    W_7:0\n",
      "                        3  ->  3      b_7:0\n",
      "               tensors: 8  ->  97315  variables\n",
      "-------------------\n",
      "Not Directly Trainable:\n",
      "counting variables...\n",
      "               tensors: 0  ->  0      variables\n",
      "-------------------\n",
      "X_train shape: (50000, 32, 32, 3)\n",
      "50000 train samples\n",
      "10000 test samples\n"
     ]
    }
   ],
   "source": [
    "enc,dec = encoder(),decoder()\n",
    "enc.summary()\n",
    "dec.summary()\n",
    "xt = cifar()"
   ]
  },
  {
   "cell_type": "code",
   "execution_count": 11,
   "metadata": {},
   "outputs": [],
   "source": [
    "feed,test = get_trainer()\n",
    "get_session().run(ct.gvi())"
   ]
  },
  {
   "cell_type": "code",
   "execution_count": 12,
   "metadata": {},
   "outputs": [
    {
     "data": {
      "image/png": "[encoded data removed]",
      "text/plain": [
       "<Figure size 432x288 with 1 Axes>"
      ]
     },
     "metadata": {
      "needs_background": "light"
     },
     "output_type": "display_data"
    }
   ],
   "source": [
    "# randomly select input image\n",
    "index = np.random.randint(len(xt))\n",
    "# plot the image\n",
    "plt.imshow(xt[index])\n",
    "plt.gray()"
   ]
  },
  {
   "cell_type": "code",
   "execution_count": 51,
   "metadata": {},
   "outputs": [],
   "source": [
    "def showImage(j, threshold=0.8):\n",
    "    from cv2tools import vis,filt\n",
    "    bs = 16\n",
    "    minibatch = xt[j:j+bs]\n",
    "    code, rec, code2, rec2, noisy_x = test(minibatch,threshold)\n",
    "    vis.clear()\n",
    "    vis.show_batch_autoscaled(rec2,name='recon(no quant)')\n",
    "    image = rec2[15]\n",
    "    plt.imshow(np.squeeze(image))\n",
    "    plt.gray()\n",
    "    # vis.show_batch_autoscaled(rec2,name='recon(no quant)')"
   ]
  },
  {
   "cell_type": "code",
   "execution_count": 53,
   "metadata": {},
   "outputs": [
    {
     "data": {
      "image/png": "[encoded data removed]",
      "text/plain": [
       "<Figure size 432x288 with 1 Axes>"
      ]
     },
     "metadata": {
      "needs_background": "light"
     },
     "output_type": "display_data"
    }
   ],
   "source": [
    "# visualize compressed image\n",
    "# load()\n",
    "showImage(index)\n",
    "# plt.gray()"
   ]
  }
 ],
 "metadata": {
  "kernelspec": {
   "display_name": "Python 3.9.12 ('base')",
   "language": "python",
   "name": "python3"
  },
  "language_info": {
   "codemirror_mode": {
    "name": "ipython",
    "version": 3
   },
   "file_extension": ".py",
   "mimetype": "text/x-python",
   "name": "python",
   "nbconvert_exporter": "python",
   "pygments_lexer": "ipython3",
   "version": "3.9.12"
  },
  "orig_nbformat": 4,
  "vscode": {
   "interpreter": {
    "hash": "40d3a090f54c6569ab1632332b64b2c03c39dcf918b08424e98f38b5ae0af88f"
   }
  }
 },
 "nbformat": 4,
 "nbformat_minor": 2
}
