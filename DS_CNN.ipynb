{
 "cells": [
  {
   "cell_type": "code",
   "execution_count": 1,
   "metadata": {},
   "outputs": [],
   "source": [
    "from keras.datasets import cifar10\n",
    "from keras.layers import Input, Dense,Conv2D,MaxPooling2D,UpSampling2D,BatchNormalization\n",
    "from keras.models import Model,Sequential\n",
    "import numpy as np\n",
    "import pandas as pd\n",
    "import matplotlib.pyplot as plt\n",
    "%matplotlib inline"
   ]
  },
  {
   "cell_type": "code",
   "execution_count": 2,
   "metadata": {},
   "outputs": [
    {
     "name": "stdout",
     "output_type": "stream",
     "text": [
      "(50000, 32, 32, 3)\n",
      "(10000, 32, 32, 3)\n"
     ]
    }
   ],
   "source": [
    "(X_train, _), (X_test, _) = cifar10.load_data()\n",
    "X_train = X_train.astype('float32')/255\n",
    "X_test = X_test.astype('float32')/255\n",
    "# X_train = X_train.reshape(len(X_train),X_train.shape[1],X_train.shape[2],3)\n",
    "# X_test = X_test.reshape(len(X_test), X_test.shape[1],X_test.shape[2],3)\n",
    "print(X_train.shape)\n",
    "print(X_test.shape)"
   ]
  },
  {
   "cell_type": "code",
   "execution_count": 5,
   "metadata": {},
   "outputs": [],
   "source": [
    "input_img = Input(shape=(32,32,3))"
   ]
  },
  {
   "cell_type": "code",
   "execution_count": 1,
   "metadata": {},
   "outputs": [
    {
     "ename": "NameError",
     "evalue": "name 'Sequential' is not defined",
     "output_type": "error",
     "traceback": [
      "\u001b[0;31m---------------------------------------------------------------------------\u001b[0m",
      "\u001b[0;31mNameError\u001b[0m                                 Traceback (most recent call last)",
      "\u001b[1;32m/Users/sumankunwar/workspace/neuralnetwork-jpeg/DS_CNN.ipynb Cell 4\u001b[0m in \u001b[0;36m<cell line: 1>\u001b[0;34m()\u001b[0m\n\u001b[0;32m----> <a href='vscode-notebook-cell:/Users/sumankunwar/workspace/neuralnetwork-jpeg/DS_CNN.ipynb#ch0000007?line=0'>1</a>\u001b[0m model \u001b[39m=\u001b[39m Sequential([\n\u001b[1;32m      <a href='vscode-notebook-cell:/Users/sumankunwar/workspace/neuralnetwork-jpeg/DS_CNN.ipynb#ch0000007?line=1'>2</a>\u001b[0m                     \u001b[39m# encoder network\u001b[39;00m\n\u001b[1;32m      <a href='vscode-notebook-cell:/Users/sumankunwar/workspace/neuralnetwork-jpeg/DS_CNN.ipynb#ch0000007?line=2'>3</a>\u001b[0m                     Conv2D(\u001b[39m32\u001b[39m, \u001b[39m3\u001b[39m, activation\u001b[39m=\u001b[39m\u001b[39m'\u001b[39m\u001b[39mrelu\u001b[39m\u001b[39m'\u001b[39m, padding\u001b[39m=\u001b[39m\u001b[39m'\u001b[39m\u001b[39msame\u001b[39m\u001b[39m'\u001b[39m, input_shape\u001b[39m=\u001b[39m(\u001b[39m28\u001b[39m, \u001b[39m28\u001b[39m, \u001b[39m1\u001b[39m)),\n\u001b[1;32m      <a href='vscode-notebook-cell:/Users/sumankunwar/workspace/neuralnetwork-jpeg/DS_CNN.ipynb#ch0000007?line=3'>4</a>\u001b[0m                     MaxPooling2D(\u001b[39m2\u001b[39m, padding\u001b[39m=\u001b[39m\u001b[39m'\u001b[39m\u001b[39msame\u001b[39m\u001b[39m'\u001b[39m),\n\u001b[1;32m      <a href='vscode-notebook-cell:/Users/sumankunwar/workspace/neuralnetwork-jpeg/DS_CNN.ipynb#ch0000007?line=4'>5</a>\u001b[0m                     Conv2D(\u001b[39m16\u001b[39m, \u001b[39m3\u001b[39m, activation\u001b[39m=\u001b[39m\u001b[39m'\u001b[39m\u001b[39mrelu\u001b[39m\u001b[39m'\u001b[39m, padding\u001b[39m=\u001b[39m\u001b[39m'\u001b[39m\u001b[39msame\u001b[39m\u001b[39m'\u001b[39m),\n\u001b[1;32m      <a href='vscode-notebook-cell:/Users/sumankunwar/workspace/neuralnetwork-jpeg/DS_CNN.ipynb#ch0000007?line=5'>6</a>\u001b[0m                     MaxPooling2D(\u001b[39m2\u001b[39m, padding\u001b[39m=\u001b[39m\u001b[39m'\u001b[39m\u001b[39msame\u001b[39m\u001b[39m'\u001b[39m),\n\u001b[1;32m      <a href='vscode-notebook-cell:/Users/sumankunwar/workspace/neuralnetwork-jpeg/DS_CNN.ipynb#ch0000007?line=6'>7</a>\u001b[0m                     \u001b[39m# decoder network\u001b[39;00m\n\u001b[1;32m      <a href='vscode-notebook-cell:/Users/sumankunwar/workspace/neuralnetwork-jpeg/DS_CNN.ipynb#ch0000007?line=7'>8</a>\u001b[0m                     Conv2D(\u001b[39m16\u001b[39m, \u001b[39m3\u001b[39m, activation\u001b[39m=\u001b[39m\u001b[39m'\u001b[39m\u001b[39mrelu\u001b[39m\u001b[39m'\u001b[39m, padding\u001b[39m=\u001b[39m\u001b[39m'\u001b[39m\u001b[39msame\u001b[39m\u001b[39m'\u001b[39m),\n\u001b[1;32m      <a href='vscode-notebook-cell:/Users/sumankunwar/workspace/neuralnetwork-jpeg/DS_CNN.ipynb#ch0000007?line=8'>9</a>\u001b[0m                     UpSampling2D(\u001b[39m2\u001b[39m),\n\u001b[1;32m     <a href='vscode-notebook-cell:/Users/sumankunwar/workspace/neuralnetwork-jpeg/DS_CNN.ipynb#ch0000007?line=9'>10</a>\u001b[0m                     Conv2D(\u001b[39m32\u001b[39m, \u001b[39m3\u001b[39m, activation\u001b[39m=\u001b[39m\u001b[39m'\u001b[39m\u001b[39mrelu\u001b[39m\u001b[39m'\u001b[39m, padding\u001b[39m=\u001b[39m\u001b[39m'\u001b[39m\u001b[39msame\u001b[39m\u001b[39m'\u001b[39m),\n\u001b[1;32m     <a href='vscode-notebook-cell:/Users/sumankunwar/workspace/neuralnetwork-jpeg/DS_CNN.ipynb#ch0000007?line=10'>11</a>\u001b[0m                     UpSampling2D(\u001b[39m2\u001b[39m),\n\u001b[1;32m     <a href='vscode-notebook-cell:/Users/sumankunwar/workspace/neuralnetwork-jpeg/DS_CNN.ipynb#ch0000007?line=11'>12</a>\u001b[0m                     \u001b[39m# output layer\u001b[39;00m\n\u001b[1;32m     <a href='vscode-notebook-cell:/Users/sumankunwar/workspace/neuralnetwork-jpeg/DS_CNN.ipynb#ch0000007?line=12'>13</a>\u001b[0m                     Conv2D(\u001b[39m1\u001b[39m, \u001b[39m3\u001b[39m, activation\u001b[39m=\u001b[39m\u001b[39m'\u001b[39m\u001b[39msigmoid\u001b[39m\u001b[39m'\u001b[39m, padding\u001b[39m=\u001b[39m\u001b[39m'\u001b[39m\u001b[39msame\u001b[39m\u001b[39m'\u001b[39m)\n\u001b[1;32m     <a href='vscode-notebook-cell:/Users/sumankunwar/workspace/neuralnetwork-jpeg/DS_CNN.ipynb#ch0000007?line=13'>14</a>\u001b[0m ])\n\u001b[1;32m     <a href='vscode-notebook-cell:/Users/sumankunwar/workspace/neuralnetwork-jpeg/DS_CNN.ipynb#ch0000007?line=15'>16</a>\u001b[0m model\u001b[39m.\u001b[39mcompile(optimizer\u001b[39m=\u001b[39m\u001b[39m'\u001b[39m\u001b[39madam\u001b[39m\u001b[39m'\u001b[39m, loss\u001b[39m=\u001b[39m\u001b[39m'\u001b[39m\u001b[39mbinary_crossentropy\u001b[39m\u001b[39m'\u001b[39m)\n\u001b[1;32m     <a href='vscode-notebook-cell:/Users/sumankunwar/workspace/neuralnetwork-jpeg/DS_CNN.ipynb#ch0000007?line=16'>17</a>\u001b[0m model\u001b[39m.\u001b[39msummary()\n",
      "\u001b[0;31mNameError\u001b[0m: name 'Sequential' is not defined"
     ]
    }
   ],
   "source": [
    "model = Sequential([\n",
    "                    # encoder network\n",
    "                    Conv2D(32, 3, activation='relu', padding='same', input_shape=(28, 28, 1)),\n",
    "                    MaxPooling2D(2, padding='same'),\n",
    "                    Conv2D(16, 3, activation='relu', padding='same'),\n",
    "                    MaxPooling2D(2, padding='same'),\n",
    "                    # decoder network\n",
    "                    Conv2D(16, 3, activation='relu', padding='same'),\n",
    "                    UpSampling2D(2),\n",
    "                    Conv2D(32, 3, activation='relu', padding='same'),\n",
    "                    UpSampling2D(2),\n",
    "                    # output layer\n",
    "                    Conv2D(1, 3, activation='sigmoid', padding='same')\n",
    "])\n",
    "\n",
    "model.compile(optimizer='adam', loss='binary_crossentropy')\n",
    "model.summary()"
   ]
  },
  {
   "cell_type": "code",
   "execution_count": 11,
   "metadata": {},
   "outputs": [],
   "source": [
    "def build_autoencoder(input_img):\n",
    "    #encoder\n",
    "    encoder = Conv2D(16, kernel_size=3, activation='relu', padding='same')(input_img)\n",
    "    encoder = MaxPooling2D(2, padding='same')(encoder)\n",
    "    encoder = Conv2D(8, kernel_size=3, activation='relu', padding='same')(encoder)\n",
    "    encoder = MaxPooling2D(2, padding='same')(encoder)\n",
    "    encoder = Conv2D(8, kernel_size=3, activation='relu', padding='same')(encoder)\n",
    "    encoded = MaxPooling2D(2, padding='same', name='encoder')(encoder)\n",
    "\n",
    "    #decoder\n",
    "    decoder = Conv2D(8, kernel_size=3, activation='relu', padding='same')(encoded)\n",
    "    decoder = UpSampling2D(2)(decoder)\n",
    "    decoder = Conv2D(8, kernel_size=3, activation='relu', padding='same')(decoder)\n",
    "    decoder = UpSampling2D(2)(decoder)\n",
    "    decoder = Conv2D(16, kernel_size=3, activation='relu',padding='same')(decoder)\n",
    "    decoder = UpSampling2D(2)(decoder)\n",
    "    decoded = Conv2D(3, kernel_size=3, activation='sigmoid', padding='same')(decoder)\n",
    "\n",
    "    return encoded, decoded"
   ]
  },
  {
   "cell_type": "code",
   "execution_count": 14,
   "metadata": {},
   "outputs": [
    {
     "name": "stdout",
     "output_type": "stream",
     "text": [
      "Model: \"model_3\"\n",
      "_________________________________________________________________\n",
      " Layer (type)                Output Shape              Param #   \n",
      "=================================================================\n",
      " input_1 (InputLayer)        [(None, 32, 32, 3)]       0         \n",
      "                                                                 \n",
      " conv2d_23 (Conv2D)          (None, 32, 32, 16)        448       \n",
      "                                                                 \n",
      " max_pooling2d_2 (MaxPooling  (None, 16, 16, 16)       0         \n",
      " 2D)                                                             \n",
      "                                                                 \n",
      " conv2d_24 (Conv2D)          (None, 16, 16, 8)         1160      \n",
      "                                                                 \n",
      " max_pooling2d_3 (MaxPooling  (None, 8, 8, 8)          0         \n",
      " 2D)                                                             \n",
      "                                                                 \n",
      " conv2d_25 (Conv2D)          (None, 8, 8, 8)           584       \n",
      "                                                                 \n",
      " encoder (MaxPooling2D)      (None, 4, 4, 8)           0         \n",
      "                                                                 \n",
      " conv2d_26 (Conv2D)          (None, 4, 4, 8)           584       \n",
      "                                                                 \n",
      " up_sampling2d_4 (UpSampling  (None, 8, 8, 8)          0         \n",
      " 2D)                                                             \n",
      "                                                                 \n",
      " conv2d_27 (Conv2D)          (None, 8, 8, 8)           584       \n",
      "                                                                 \n",
      " up_sampling2d_5 (UpSampling  (None, 16, 16, 8)        0         \n",
      " 2D)                                                             \n",
      "                                                                 \n",
      " conv2d_28 (Conv2D)          (None, 16, 16, 16)        1168      \n",
      "                                                                 \n",
      " up_sampling2d_6 (UpSampling  (None, 32, 32, 16)       0         \n",
      " 2D)                                                             \n",
      "                                                                 \n",
      " conv2d_29 (Conv2D)          (None, 32, 32, 3)         435       \n",
      "                                                                 \n",
      "=================================================================\n",
      "Total params: 4,963\n",
      "Trainable params: 4,963\n",
      "Non-trainable params: 0\n",
      "_________________________________________________________________\n",
      "None\n"
     ]
    }
   ],
   "source": [
    "IMG_SHAPE = X_test.shape[1:]\n",
    "encoder, decoder = build_autoencoder(input_img)\n",
    "\n",
    "\n",
    "# inp = Input(IMG_SHAPE)\n",
    "# code = encoder(inp)\n",
    "# reconstruction = decoder(code)\n",
    "autoencoder = Model(input_img,decoder)\n",
    "autoencoder.compile(optimizer='adam', loss='mse')\n",
    "print(autoencoder.summary())"
   ]
  },
  {
   "cell_type": "code",
   "execution_count": 3,
   "metadata": {},
   "outputs": [
    {
     "name": "stdout",
     "output_type": "stream",
     "text": [
      "Model: \"sequential\"\n",
      "_________________________________________________________________\n",
      " Layer (type)                Output Shape              Param #   \n",
      "=================================================================\n",
      " conv2d (Conv2D)             (None, 32, 32, 32)        896       \n",
      "                                                                 \n",
      " batch_normalization (BatchN  (None, 32, 32, 32)       128       \n",
      " ormalization)                                                   \n",
      "                                                                 \n",
      " conv2d_1 (Conv2D)           (None, 16, 16, 32)        9248      \n",
      "                                                                 \n",
      " conv2d_2 (Conv2D)           (None, 16, 16, 32)        9248      \n",
      "                                                                 \n",
      " batch_normalization_1 (Batc  (None, 16, 16, 32)       128       \n",
      " hNormalization)                                                 \n",
      "                                                                 \n",
      " up_sampling2d (UpSampling2D  (None, 32, 32, 32)       0         \n",
      " )                                                               \n",
      "                                                                 \n",
      " conv2d_3 (Conv2D)           (None, 32, 32, 32)        9248      \n",
      "                                                                 \n",
      " batch_normalization_2 (Batc  (None, 32, 32, 32)       128       \n",
      " hNormalization)                                                 \n",
      "                                                                 \n",
      " conv2d_4 (Conv2D)           (None, 32, 32, 3)         99        \n",
      "                                                                 \n",
      "=================================================================\n",
      "Total params: 29,123\n",
      "Trainable params: 28,931\n",
      "Non-trainable params: 192\n",
      "_________________________________________________________________\n"
     ]
    },
    {
     "name": "stderr",
     "output_type": "stream",
     "text": [
      "2022-07-24 21:40:29.901860: I tensorflow/core/platform/cpu_feature_guard.cc:193] This TensorFlow binary is optimized with oneAPI Deep Neural Network Library (oneDNN) to use the following CPU instructions in performance-critical operations:  AVX2 FMA\n",
      "To enable them in other operations, rebuild TensorFlow with the appropriate compiler flags.\n"
     ]
    }
   ],
   "source": [
    "model = Sequential()\n",
    "\n",
    "model.add(Conv2D(32, kernel_size=3, strides=1, padding='same', activation='relu', input_shape=(32, 32, 3)))\n",
    "model.add(BatchNormalization())     # 32x32x32\n",
    "model.add(Conv2D(32, kernel_size=3, strides=2, padding='same', activation='relu'))      # 16x16x32\n",
    "model.add(Conv2D(32, kernel_size=3, strides=1, padding='same', activation='relu'))      # 16x16x32\n",
    "model.add(BatchNormalization())     # 16x16x32\n",
    "model.add(UpSampling2D())\n",
    "model.add(Conv2D(32, kernel_size=3, strides=1, padding='same', activation='relu'))      # 32x32x32\n",
    "model.add(BatchNormalization())\n",
    "model.add(Conv2D(3,  kernel_size=1, strides=1, padding='same', activation='sigmoid'))   # 32x32x3\n",
    "\n",
    "model.compile(optimizer='adam', metrics=['accuracy'], loss='mean_squared_error')\n",
    "model.summary()"
   ]
  },
  {
   "cell_type": "code",
   "execution_count": 4,
   "metadata": {},
   "outputs": [
    {
     "ename": "NameError",
     "evalue": "name 'input_img' is not defined",
     "output_type": "error",
     "traceback": [
      "\u001b[0;31m---------------------------------------------------------------------------\u001b[0m",
      "\u001b[0;31mNameError\u001b[0m                                 Traceback (most recent call last)",
      "\u001b[1;32m/Users/sumankunwar/workspace/neuralnetwork-jpeg/DS_CNN.ipynb Cell 4\u001b[0m in \u001b[0;36m<cell line: 1>\u001b[0;34m()\u001b[0m\n\u001b[0;32m----> <a href='vscode-notebook-cell:/Users/sumankunwar/workspace/neuralnetwork-jpeg/DS_CNN.ipynb#ch0000003?line=0'>1</a>\u001b[0m autoencoder\u001b[39m=\u001b[39mModel(input_img, decoded)\n",
      "\u001b[0;31mNameError\u001b[0m: name 'input_img' is not defined"
     ]
    }
   ],
   "source": [
    "autoencoder=Model(input_img, decoded)"
   ]
  }
 ],
 "metadata": {
  "kernelspec": {
   "display_name": "Python 3.9.12 ('base')",
   "language": "python",
   "name": "python3"
  },
  "language_info": {
   "codemirror_mode": {
    "name": "ipython",
    "version": 3
   },
   "file_extension": ".py",
   "mimetype": "text/x-python",
   "name": "python",
   "nbconvert_exporter": "python",
   "pygments_lexer": "ipython3",
   "version": "3.9.12"
  },
  "orig_nbformat": 4,
  "vscode": {
   "interpreter": {
    "hash": "40d3a090f54c6569ab1632332b64b2c03c39dcf918b08424e98f38b5ae0af88f"
   }
  }
 },
 "nbformat": 4,
 "nbformat_minor": 2
}
